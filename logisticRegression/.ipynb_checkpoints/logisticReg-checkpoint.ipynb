{
 "cells": [
  {
   "cell_type": "code",
   "execution_count": 27,
   "metadata": {
    "collapsed": false
   },
   "outputs": [
    {
     "name": "stdout",
     "output_type": "stream",
     "text": [
      "5044\n"
     ]
    }
   ],
   "source": [
    "from __future__ import division\n",
    "from sklearn import linear_model\n",
    "import csv\n",
    "import numpy as np\n",
    "import time\n",
    "import math\n",
    "from sklearn.metrics import f1_score\n",
    "\n",
    "\"\"\"\n",
    "Applies logistic regression for predicting best picture nomination and best picture winner\n",
    "\"\"\"\n",
    "\n",
    "features = []\n",
    "labels = []\n",
    "# featNames = features[0]\n",
    "# features = features[1:]\n",
    "feat = open(\"C:/Users/Maryam/Google Drive/Data Mining/features.csv\", 'rt')\n",
    "entryReader = csv.reader(feat)\n",
    "for row in entryReader:\n",
    "    features.append(row)\n",
    "       \n",
    "featureNames = np.array(features[0])\n",
    "features = np.array(features[1:])\n",
    "\n",
    "\n",
    "\n",
    "\n"
   ]
  },
  {
   "cell_type": "code",
   "execution_count": 28,
   "metadata": {
    "collapsed": false
   },
   "outputs": [
    {
     "name": "stdout",
     "output_type": "stream",
     "text": [
      "8175\n",
      "[ 1.  2.  1.  2.  1.  2.]\n"
     ]
    }
   ],
   "source": [
    "print len(features[0])\n",
    "a = np.array([])\n",
    "a = np.append(a, [[1,2]])\n",
    "a = np.append(a, [[1,2]])\n",
    "a = np.append(a, [[1,2]])\n",
    "print a\n"
   ]
  }
 ],
 "metadata": {
  "anaconda-cloud": {},
  "kernelspec": {
   "display_name": "Python [Root]",
   "language": "python",
   "name": "Python [Root]"
  },
  "language_info": {
   "codemirror_mode": {
    "name": "ipython",
    "version": 2
   },
   "file_extension": ".py",
   "mimetype": "text/x-python",
   "name": "python",
   "nbconvert_exporter": "python",
   "pygments_lexer": "ipython2",
   "version": "2.7.12"
  }
 },
 "nbformat": 4,
 "nbformat_minor": 0
}
