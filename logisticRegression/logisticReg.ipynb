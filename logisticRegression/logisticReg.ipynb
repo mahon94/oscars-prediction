{
 "cells": [
  {
   "cell_type": "code",
   "execution_count": 39,
   "metadata": {
    "collapsed": false
   },
   "outputs": [
    {
     "name": "stdout",
     "output_type": "stream",
     "text": [
      "5043 8175\n",
      "5043 3\n",
      "year index =  19\n",
      "0.758080507634 0.241919492366\n",
      "favoritCols =  25\n",
      "['color', 'title_year', 'imdb_score', 'Nominated Actor Leading', 'Nominated Actor Supporting', 'Nominated Actress Leading', 'Nominated Actress Supporting', 'Nominated Art Direction', 'Nominated Cinematography', 'Nominated Costume Design', 'Nominated Directing', 'Nominated Film Editing', 'Nominated Makeup', 'Nominated Music Scoring', 'Nominated Music Song', 'Nominated Sound', 'Nominated Sound Editing', 'Nominated Visual Effects', 'Nominated Writing', 'genre=War', 'genre=Biography', 'genre=History', 'genre=Drama', 'keyword=homosexuality', 'keyword=1920s']\n"
     ]
    }
   ],
   "source": [
    "from __future__ import division\n",
    "from sklearn import linear_model\n",
    "import csv\n",
    "import numpy as np\n",
    "import time\n",
    "import math\n",
    "import sklearn.metrics\n",
    "from sklearn import metrics\n",
    "from sklearn import preprocessing\n",
    "from sklearn import cross_validation\n",
    "\n",
    "\"\"\"\n",
    "Applies logistic regression for predicting best picture nomination &\n",
    "best picture winner\n",
    "\"\"\"\n",
    "\n",
    "def csvToArray(filename):\n",
    "    ret = []\n",
    "    with open(filename) as x:\n",
    "        entryreader = csv.reader(x, delimiter=',')\n",
    "        for row in entryreader:\n",
    "            ret.append(row)\n",
    "    return ret\n",
    "\n",
    "def getTrainTestRowsAndCols(labelOfInterest, titleYearIdx):\n",
    "    \"\"\"\n",
    "\n",
    "    :param labelOfInterest: #0 means nominee , 1 means winner (for best picture), 2 means number of awards\n",
    "    :return:\n",
    "    \"\"\"\n",
    "    trainRows = []\n",
    "    testRows = []\n",
    "\n",
    "    for i in range(len(features)):\n",
    "        if labelOfInterest != 1:\n",
    "            if int(math.floor(features[i][titleYearIdx])) % 4 == 0:\n",
    "                testRows.append(i)\n",
    "            else:\n",
    "                trainRows.append(i)\n",
    "        else:\n",
    "            if labels[i][0] == 1:\n",
    "                if int(math.floor(features[i][titleYearIdx])) % 4 == 0:\n",
    "                    testRows.append(i)\n",
    "                else:\n",
    "                    trainRows.append(i)\n",
    "\n",
    "    # prints percentage of train and test\n",
    "    print len(trainRows) / len(features), len(testRows) / len(features)\n",
    "\n",
    "    # feature selection based on correlation values\n",
    "    correlation = csvToArray(\"../../feature_correlation_results.csv\")\n",
    "\n",
    "    favoriteCols = []\n",
    "    favoriteColsNames = []\n",
    "\n",
    "    threshold = 0.1\n",
    "    for i in range(1, len(correlation)):\n",
    "        if labelOfInterest == 2 and ('Won' in correlation[i][0]):  # we should ignore this when predicting num of awards\n",
    "            threshold = 0.1\n",
    "            continue\n",
    "\n",
    "        if labelOfInterest == 1 and ('Won' in correlation[i][0]):\n",
    "            threshold = 0.1\n",
    "            continue\n",
    "\n",
    "        if labelOfInterest == 0 and (('Won' in correlation[i][0])):\n",
    "            threshold = 0.1\n",
    "            continue\n",
    "\n",
    "        if correlation[i][0] in featIdxMap:\n",
    "            if math.fabs(float(correlation[i][1 + labelOfInterest])) > threshold:\n",
    "                # print correlation[i][0]\n",
    "                favoriteCols.append(featIdxMap[correlation[i][0]])\n",
    "                favoriteColsNames.append(correlation[i][0])\n",
    "\n",
    "    print 'favoritCols = ', len(favoriteCols)\n",
    "\n",
    "    print favoriteColsNames\n",
    "\n",
    "    # making test set half positive and half negative\n",
    "    # removes some of negative instances\n",
    "    # positive could mean that the instance has been nominated for OR has won best picture!\n",
    "\n",
    "    return trainRows, testRows, favoriteCols\n",
    "\n",
    "\n",
    "features = csvToArray(\"../../features.csv\")\n",
    "featNames = features[0]\n",
    "features = features[1:]\n",
    "print len(features), len(features[0])\n",
    "\n",
    "labels = csvToArray(\"../../labels.csv\")\n",
    "labelNames = labels[0]\n",
    "labels = labels[1:]\n",
    "print len(labels), len(labels[0])\n",
    "\n",
    "labels = np.array(labels).astype(int)\n",
    "features = np.array(features).astype(float)\n",
    "\n",
    "featIdxMap = dict()\n",
    "for i in range(len(featNames)):\n",
    "    featIdxMap[featNames[i]] = i\n",
    "\n",
    "#getting title_year column number\n",
    "titleYearIdx = -1\n",
    "for i in range(len(featNames)):\n",
    "    if featNames[i] == 'title_year':\n",
    "        titleYearIdx = i\n",
    "print 'year index = ', titleYearIdx\n",
    "\n",
    "\n",
    "labelOfInterest = 0\n",
    "trainRows, testRows, favCols = getTrainTestRowsAndCols(labelOfInterest, titleYearIdx)\n",
    "\n",
    "for i in range(len(features[0])):\n",
    "    if (i in favCols):\n",
    "        features[:, i] = preprocessing.scale(features[:, i])\n",
    "\n",
    "\n",
    "\n"
   ]
  },
  {
   "cell_type": "code",
   "execution_count": 40,
   "metadata": {
    "collapsed": false
   },
   "outputs": [
    {
     "name": "stdout",
     "output_type": "stream",
     "text": [
      "logistic cross_val_predict(f1-measure) =  0.806451612903\n",
      "logistic cross_val_predict(f1-measure) =  0.842696629213\n",
      "logistic finalpredict f1-measure =  0.905982905983\n",
      "logistic finalpredict f1-measure =  0.929824561404\n"
     ]
    }
   ],
   "source": [
    "logclf = linear_model.LogisticRegression(C=1e5)\n",
    "        \n",
    "logclf.fit((features[trainRows, :])[:,favCols], labels[trainRows,labelOfInterest])\n",
    "\n",
    "#cross validation\n",
    "predicted = cross_validation.cross_val_predict(logclf, (features[trainRows, :])[:, favCols], labels[trainRows, labelOfInterest], cv=10)\n",
    "print 'logistic cross_val_predict(f1-measure) = ', metrics.f1_score(labels[trainRows, labelOfInterest], predicted)\n",
    "print 'logistic cross_val_predict(f1-measure) = ', metrics.precision_score(labels[trainRows, labelOfInterest], predicted)\n",
    "\n",
    "# prediction on test\n",
    "z = logclf.predict((features[testRows, :])[:,favCols])\n",
    "print 'logistic finalpredict f1-measure = ', metrics.f1_score(labels[testRows, labelOfInterest], z)\n",
    "print 'logistic finalpredict f1-measure = ', metrics.precision_score(labels[testRows, labelOfInterest], z)\n",
    "\n",
    "\n"
   ]
  },
  {
   "cell_type": "code",
   "execution_count": 28,
   "metadata": {
    "collapsed": false
   },
   "outputs": [
    {
     "name": "stdout",
     "output_type": "stream",
     "text": [
      "8175\n",
      "[ 1.  2.  1.  2.  1.  2.]\n"
     ]
    }
   ],
   "source": [
    "print len(features[0])\n",
    "a = np.array([])\n",
    "a = np.append(a, [[1,2]])\n",
    "a = np.append(a, [[1,2]])\n",
    "a = np.append(a, [[1,2]])\n",
    "print a\n",
    "\n",
    "\n",
    "#nomination prediction:\n",
    "logistic cross_val_predict(f1-measure) =  0.806451612903\n",
    "logistic finalpredict f1-measure =  0.905982905983\n",
    "\n",
    "# win prediction\n",
    "logistic cross_val_predict(f1-measure) =  0.699029126214\n",
    "logistic finalpredict f1-measure =  0.685714285714\n"
   ]
  }
 ],
 "metadata": {
  "anaconda-cloud": {},
  "kernelspec": {
   "display_name": "Python [Root]",
   "language": "python",
   "name": "Python [Root]"
  },
  "language_info": {
   "codemirror_mode": {
    "name": "ipython",
    "version": 2
   },
   "file_extension": ".py",
   "mimetype": "text/x-python",
   "name": "python",
   "nbconvert_exporter": "python",
   "pygments_lexer": "ipython2",
   "version": "2.7.12"
  }
 },
 "nbformat": 4,
 "nbformat_minor": 0
}
